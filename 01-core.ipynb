{
 "cells": [
  {
   "cell_type": "markdown",
   "metadata": {},
   "source": [
    "# Lecture 1--Core python"
   ]
  },
  {
   "cell_type": "markdown",
   "metadata": {},
   "source": [
    "## Miscellaneous: \n",
    "* Review Syllabus\n",
    "* Install Anaconda\n",
    "* Start Jupyter notebooks"
   ]
  },
  {
   "cell_type": "markdown",
   "metadata": {},
   "source": [
    "## Programming: Jupyter basics\n",
    "\n",
    "#### Printing/display\n",
    "\n",
    "The command in python to print anything is ```print```. That said, in Jupyter we do not need to always use ```print```:\n"
   ]
  },
  {
   "cell_type": "code",
   "execution_count": 1,
   "metadata": {},
   "outputs": [
    {
     "data": {
      "text/plain": [
       "'Hello, World!'"
      ]
     },
     "execution_count": 1,
     "metadata": {},
     "output_type": "execute_result"
    }
   ],
   "source": [
    "\"Hello, World!\""
   ]
  },
  {
   "cell_type": "markdown",
   "metadata": {},
   "source": [
    "Note that in jupyter, only the last statement gets shown back to us:"
   ]
  },
  {
   "cell_type": "code",
   "execution_count": 2,
   "metadata": {},
   "outputs": [
    {
     "data": {
      "text/plain": [
       "'World!'"
      ]
     },
     "execution_count": 2,
     "metadata": {},
     "output_type": "execute_result"
    }
   ],
   "source": [
    "\"Hello, \"\n",
    "\"World!\""
   ]
  },
  {
   "cell_type": "code",
   "execution_count": 3,
   "metadata": {},
   "outputs": [
    {
     "name": "stdout",
     "output_type": "stream",
     "text": [
      "Hello, \n",
      "World!\n"
     ]
    }
   ],
   "source": [
    "print(\"Hello, \")\n",
    "print(\"World!\")"
   ]
  },
  {
   "cell_type": "markdown",
   "metadata": {},
   "source": [
    "\n",
    "#### Markdown blocks\n",
    "\n",
    "In Jupyter, you can switch a code block to Markdown and type to document your code and allow other people to read it. In fact, the very words you are reading are just a markdown block that has been formatted. Below you will find an unformatted markdown block. With ctrl+enter you can process it. Double clicking on it will turn it back into edit mode.\n"
   ]
  },
  {
   "cell_type": "markdown",
   "metadata": {},
   "source": [
    "##### Example subheading\n",
    "\n",
    "This code is written in markdown so that it can be formatted for human reading."
   ]
  },
  {
   "cell_type": "markdown",
   "metadata": {},
   "source": [
    "#### Code comments\n",
    "\n",
    "Sometimes I will comment my code. Comments in python appear after the ```#``` operator. Anything on a line after a ```#``` is a comment and is not necessary. These comments are to help you. Great programmers use lots of comments so that other people can understand their code and so that they know what is happening if they look at it months or years later."
   ]
  },
  {
   "cell_type": "code",
   "execution_count": 85,
   "metadata": {},
   "outputs": [
    {
     "data": {
      "text/plain": [
       "'Hello, World!'"
      ]
     },
     "execution_count": 85,
     "metadata": {},
     "output_type": "execute_result"
    }
   ],
   "source": [
    "\"Hello, World!\" ## Here we are showing our first python code\n",
    "# This line is a comment too"
   ]
  },
  {
   "cell_type": "markdown",
   "metadata": {},
   "source": [
    "## Topic: Core python\n",
    "\n",
    "### Data types\t\t\n",
    "\t\n",
    "#### Primitives\t\n",
    "\n",
    "Booleans"
   ]
  },
  {
   "cell_type": "code",
   "execution_count": 5,
   "metadata": {},
   "outputs": [
    {
     "data": {
      "text/plain": [
       "True"
      ]
     },
     "execution_count": 5,
     "metadata": {},
     "output_type": "execute_result"
    }
   ],
   "source": [
    "True"
   ]
  },
  {
   "cell_type": "code",
   "execution_count": 6,
   "metadata": {},
   "outputs": [
    {
     "data": {
      "text/plain": [
       "False"
      ]
     },
     "execution_count": 6,
     "metadata": {},
     "output_type": "execute_result"
    }
   ],
   "source": [
    "False"
   ]
  },
  {
   "cell_type": "code",
   "execution_count": 7,
   "metadata": {},
   "outputs": [
    {
     "data": {
      "text/plain": [
       "False"
      ]
     },
     "execution_count": 7,
     "metadata": {},
     "output_type": "execute_result"
    }
   ],
   "source": [
    "5==4"
   ]
  },
  {
   "cell_type": "code",
   "execution_count": 8,
   "metadata": {},
   "outputs": [
    {
     "data": {
      "text/plain": [
       "True"
      ]
     },
     "execution_count": 8,
     "metadata": {},
     "output_type": "execute_result"
    }
   ],
   "source": [
    "5==5.000"
   ]
  },
  {
   "cell_type": "code",
   "execution_count": 9,
   "metadata": {},
   "outputs": [
    {
     "data": {
      "text/plain": [
       "True"
      ]
     },
     "execution_count": 9,
     "metadata": {},
     "output_type": "execute_result"
    }
   ],
   "source": [
    "1==True"
   ]
  },
  {
   "cell_type": "code",
   "execution_count": 10,
   "metadata": {},
   "outputs": [
    {
     "data": {
      "text/plain": [
       "True"
      ]
     },
     "execution_count": 10,
     "metadata": {},
     "output_type": "execute_result"
    }
   ],
   "source": [
    "0==False"
   ]
  },
  {
   "cell_type": "markdown",
   "metadata": {},
   "source": [
    "Strings"
   ]
  },
  {
   "cell_type": "code",
   "execution_count": 7,
   "metadata": {},
   "outputs": [
    {
     "name": "stdout",
     "output_type": "stream",
     "text": [
      "Hello World!\n"
     ]
    }
   ],
   "source": [
    "print(\"Hello World!\")"
   ]
  },
  {
   "cell_type": "code",
   "execution_count": 8,
   "metadata": {},
   "outputs": [
    {
     "data": {
      "text/plain": [
       "'Hello, World!'"
      ]
     },
     "execution_count": 8,
     "metadata": {},
     "output_type": "execute_result"
    }
   ],
   "source": [
    "\"Hello,\" + \" World!\""
   ]
  },
  {
   "cell_type": "markdown",
   "metadata": {},
   "source": [
    "Numerics"
   ]
  },
  {
   "cell_type": "code",
   "execution_count": 14,
   "metadata": {},
   "outputs": [
    {
     "data": {
      "text/plain": [
       "int"
      ]
     },
     "execution_count": 14,
     "metadata": {},
     "output_type": "execute_result"
    }
   ],
   "source": [
    "type(5) # This is an int"
   ]
  },
  {
   "cell_type": "code",
   "execution_count": 13,
   "metadata": {},
   "outputs": [
    {
     "data": {
      "text/plain": [
       "float"
      ]
     },
     "execution_count": 13,
     "metadata": {},
     "output_type": "execute_result"
    }
   ],
   "source": [
    "type(4.5) # This is a float"
   ]
  },
  {
   "cell_type": "code",
   "execution_count": 12,
   "metadata": {},
   "outputs": [
    {
     "data": {
      "text/plain": [
       "6.0"
      ]
     },
     "execution_count": 12,
     "metadata": {},
     "output_type": "execute_result"
    }
   ],
   "source": [
    "5.4 + 0.6 # Addition"
   ]
  },
  {
   "cell_type": "code",
   "execution_count": 13,
   "metadata": {},
   "outputs": [
    {
     "data": {
      "text/plain": [
       "1.5"
      ]
     },
     "execution_count": 13,
     "metadata": {},
     "output_type": "execute_result"
    }
   ],
   "source": [
    "3/2 # Division"
   ]
  },
  {
   "cell_type": "code",
   "execution_count": 14,
   "metadata": {},
   "outputs": [
    {
     "data": {
      "text/plain": [
       "1"
      ]
     },
     "execution_count": 14,
     "metadata": {},
     "output_type": "execute_result"
    }
   ],
   "source": [
    "3//2 # Division w/o remainder"
   ]
  },
  {
   "cell_type": "code",
   "execution_count": 17,
   "metadata": {},
   "outputs": [
    {
     "data": {
      "text/plain": [
       "1"
      ]
     },
     "execution_count": 17,
     "metadata": {},
     "output_type": "execute_result"
    }
   ],
   "source": [
    "3%2 # Remainder (modulus) division"
   ]
  },
  {
   "cell_type": "code",
   "execution_count": 18,
   "metadata": {},
   "outputs": [
    {
     "data": {
      "text/plain": [
       "5"
      ]
     },
     "execution_count": 18,
     "metadata": {},
     "output_type": "execute_result"
    }
   ],
   "source": [
    "7^2 # Some bitwise whatever (don't use)"
   ]
  },
  {
   "cell_type": "code",
   "execution_count": 19,
   "metadata": {},
   "outputs": [
    {
     "data": {
      "text/plain": [
       "49"
      ]
     },
     "execution_count": 19,
     "metadata": {},
     "output_type": "execute_result"
    }
   ],
   "source": [
    "7**2 # Raised to power (do use)"
   ]
  },
  {
   "cell_type": "markdown",
   "metadata": {},
   "source": [
    "Casting"
   ]
  },
  {
   "cell_type": "code",
   "execution_count": 6,
   "metadata": {},
   "outputs": [
    {
     "data": {
      "text/plain": [
       "5"
      ]
     },
     "execution_count": 6,
     "metadata": {},
     "output_type": "execute_result"
    }
   ],
   "source": [
    "int(\"5\")"
   ]
  },
  {
   "cell_type": "code",
   "execution_count": 7,
   "metadata": {},
   "outputs": [
    {
     "ename": "ValueError",
     "evalue": "invalid literal for int() with base 10: '5.0001'",
     "output_type": "error",
     "traceback": [
      "\u001b[0;31m---------------------------------------------------------------------------\u001b[0m",
      "\u001b[0;31mValueError\u001b[0m                                Traceback (most recent call last)",
      "\u001b[0;32m<ipython-input-7-7657d1902f05>\u001b[0m in \u001b[0;36m<module>\u001b[0;34m\u001b[0m\n\u001b[0;32m----> 1\u001b[0;31m \u001b[0mint\u001b[0m\u001b[0;34m(\u001b[0m\u001b[0;34m\"5.0001\"\u001b[0m\u001b[0;34m)\u001b[0m\u001b[0;34m\u001b[0m\u001b[0;34m\u001b[0m\u001b[0m\n\u001b[0m",
      "\u001b[0;31mValueError\u001b[0m: invalid literal for int() with base 10: '5.0001'"
     ]
    }
   ],
   "source": [
    "int(\"5.0001\")"
   ]
  },
  {
   "cell_type": "code",
   "execution_count": 8,
   "metadata": {},
   "outputs": [
    {
     "data": {
      "text/plain": [
       "5.0002"
      ]
     },
     "execution_count": 8,
     "metadata": {},
     "output_type": "execute_result"
    }
   ],
   "source": [
    "float(\"5.0002\")"
   ]
  },
  {
   "cell_type": "code",
   "execution_count": 9,
   "metadata": {},
   "outputs": [
    {
     "data": {
      "text/plain": [
       "0"
      ]
     },
     "execution_count": 9,
     "metadata": {},
     "output_type": "execute_result"
    }
   ],
   "source": [
    "int(False)"
   ]
  },
  {
   "cell_type": "code",
   "execution_count": 10,
   "metadata": {},
   "outputs": [
    {
     "data": {
      "text/plain": [
       "'7'"
      ]
     },
     "execution_count": 10,
     "metadata": {},
     "output_type": "execute_result"
    }
   ],
   "source": [
    "str(7)"
   ]
  },
  {
   "cell_type": "markdown",
   "metadata": {},
   "source": [
    "#### Collections\n",
    "##### Lists (IMPORTANT)\n",
    "\n",
    "The most important collection in python is the list. A list is a collection of things. Those things can have any type, and they can be referenced by an index. It is important to note that python uses zero-based indexing."
   ]
  },
  {
   "cell_type": "code",
   "execution_count": 16,
   "metadata": {},
   "outputs": [
    {
     "data": {
      "text/plain": [
       "7"
      ]
     },
     "execution_count": 16,
     "metadata": {},
     "output_type": "execute_result"
    }
   ],
   "source": [
    "mylist = [5,7,9,11]\n",
    "mylist[1]"
   ]
  },
  {
   "cell_type": "code",
   "execution_count": 17,
   "metadata": {},
   "outputs": [
    {
     "data": {
      "text/plain": [
       "11"
      ]
     },
     "execution_count": 17,
     "metadata": {},
     "output_type": "execute_result"
    }
   ],
   "source": [
    "mylist[-1]"
   ]
  },
  {
   "cell_type": "code",
   "execution_count": 18,
   "metadata": {},
   "outputs": [
    {
     "data": {
      "text/plain": [
       "[7, 9, 11]"
      ]
     },
     "execution_count": 18,
     "metadata": {},
     "output_type": "execute_result"
    }
   ],
   "source": [
    "mylist[1:]"
   ]
  },
  {
   "cell_type": "code",
   "execution_count": 19,
   "metadata": {},
   "outputs": [
    {
     "data": {
      "text/plain": [
       "[5, 7, 9]"
      ]
     },
     "execution_count": 19,
     "metadata": {},
     "output_type": "execute_result"
    }
   ],
   "source": [
    "mylist[:-1]"
   ]
  },
  {
   "cell_type": "code",
   "execution_count": 20,
   "metadata": {},
   "outputs": [
    {
     "data": {
      "text/plain": [
       "[9]"
      ]
     },
     "execution_count": 20,
     "metadata": {},
     "output_type": "execute_result"
    }
   ],
   "source": [
    "mylist[2:3]"
   ]
  },
  {
   "cell_type": "code",
   "execution_count": 21,
   "metadata": {},
   "outputs": [
    {
     "data": {
      "text/plain": [
       "[5, 9, 11]"
      ]
     },
     "execution_count": 21,
     "metadata": {},
     "output_type": "execute_result"
    }
   ],
   "source": [
    "del mylist[1]\n",
    "mylist"
   ]
  },
  {
   "cell_type": "code",
   "execution_count": 22,
   "metadata": {},
   "outputs": [
    {
     "data": {
      "text/plain": [
       "3"
      ]
     },
     "execution_count": 22,
     "metadata": {},
     "output_type": "execute_result"
    }
   ],
   "source": [
    "len(mylist)"
   ]
  },
  {
   "cell_type": "code",
   "execution_count": 23,
   "metadata": {},
   "outputs": [
    {
     "data": {
      "text/plain": [
       "[5, 9, 11, 7]"
      ]
     },
     "execution_count": 23,
     "metadata": {},
     "output_type": "execute_result"
    }
   ],
   "source": [
    "mylist + [7]"
   ]
  },
  {
   "cell_type": "markdown",
   "metadata": {},
   "source": [
    "You can find a helpful set of [python list functions here](https://www.programiz.com/python-programming/methods/list).\n",
    "\n",
    "##### Tuples\n",
    "\n",
    "A tuple is a list where you can't change the elements. Why would you want this? It's unclear, but sometimes when writing python we get tuples from other functions or whatever. This means we have to know what tuples are and how to use them.\n",
    "\n",
    "Note: You can convert any tuple or tuple-like object ```A``` to a list with the ```list(A)``` function."
   ]
  },
  {
   "cell_type": "code",
   "execution_count": 34,
   "metadata": {},
   "outputs": [
    {
     "data": {
      "text/plain": [
       "(3, 4, 5)"
      ]
     },
     "execution_count": 34,
     "metadata": {},
     "output_type": "execute_result"
    }
   ],
   "source": [
    "(3,4,5)"
   ]
  },
  {
   "cell_type": "code",
   "execution_count": 35,
   "metadata": {},
   "outputs": [
    {
     "data": {
      "text/plain": [
       "4"
      ]
     },
     "execution_count": 35,
     "metadata": {},
     "output_type": "execute_result"
    }
   ],
   "source": [
    "(3,4,5)[1]"
   ]
  },
  {
   "cell_type": "code",
   "execution_count": 36,
   "metadata": {},
   "outputs": [
    {
     "data": {
      "text/plain": [
       "(3, 4, 5, 6)"
      ]
     },
     "execution_count": 36,
     "metadata": {},
     "output_type": "execute_result"
    }
   ],
   "source": [
    "(3,4,5)+(6,)"
   ]
  },
  {
   "cell_type": "code",
   "execution_count": 24,
   "metadata": {},
   "outputs": [
    {
     "ename": "TypeError",
     "evalue": "'tuple' object does not support item assignment",
     "output_type": "error",
     "traceback": [
      "\u001b[0;31m---------------------------------------------------------------------------\u001b[0m",
      "\u001b[0;31mTypeError\u001b[0m                                 Traceback (most recent call last)",
      "\u001b[0;32m<ipython-input-24-f6c9dea04c40>\u001b[0m in \u001b[0;36m<module>\u001b[0;34m\u001b[0m\n\u001b[0;32m----> 1\u001b[0;31m \u001b[0;34m(\u001b[0m\u001b[0;36m3\u001b[0m\u001b[0;34m,\u001b[0m\u001b[0;36m4\u001b[0m\u001b[0;34m,\u001b[0m\u001b[0;36m5\u001b[0m\u001b[0;34m)\u001b[0m\u001b[0;34m[\u001b[0m\u001b[0;36m1\u001b[0m\u001b[0;34m]\u001b[0m \u001b[0;34m=\u001b[0m \u001b[0;36m6\u001b[0m\u001b[0;34m\u001b[0m\u001b[0;34m\u001b[0m\u001b[0m\n\u001b[0m",
      "\u001b[0;31mTypeError\u001b[0m: 'tuple' object does not support item assignment"
     ]
    }
   ],
   "source": [
    "(3,4,5)[1] = 6"
   ]
  },
  {
   "cell_type": "markdown",
   "metadata": {},
   "source": [
    "##### Sets\n",
    "\n",
    "I don't choose to use sets very often, but they are an interesting concept nonetheless. Sets are unordered lists where any element can only be included once. This basically means that a set in Python has the same definition as a set in mathematics. Programatically, they can be a little strange to work with and there are some caveats to be aware of (if you plan to use them often). However, for our purposes, I will be skipping most of those to make things easier"
   ]
  },
  {
   "cell_type": "code",
   "execution_count": 26,
   "metadata": {},
   "outputs": [
    {
     "data": {
      "text/plain": [
       "{2, 3}"
      ]
     },
     "execution_count": 26,
     "metadata": {},
     "output_type": "execute_result"
    }
   ],
   "source": [
    "{2,3}"
   ]
  },
  {
   "cell_type": "code",
   "execution_count": 27,
   "metadata": {},
   "outputs": [
    {
     "data": {
      "text/plain": [
       "{7, 8, 9, 10, 11}"
      ]
     },
     "execution_count": 27,
     "metadata": {},
     "output_type": "execute_result"
    }
   ],
   "source": [
    "myset = {7,8,9}\n",
    "myset.add(11)\n",
    "myset.add(10)\n",
    "myset.add(7)\n",
    "myset"
   ]
  },
  {
   "cell_type": "markdown",
   "metadata": {},
   "source": [
    "##### Dictionaries (IMPORTANT)\n",
    "\n",
    "Another fundamental data structure in python is the dictionary. Dictionaries are essentially just a mapping. Every item in a dictionary has a key and is referenced by this key. So if you know the key (like a word in the dictionary) then you can find information about that key (like the definition in the dictionary). [A helpful set of functions relating to dictionaries can be found here.](https://www.programiz.com/python-programming/methods/dictionary)"
   ]
  },
  {
   "cell_type": "code",
   "execution_count": 29,
   "metadata": {},
   "outputs": [
    {
     "data": {
      "text/plain": [
       "1"
      ]
     },
     "execution_count": 29,
     "metadata": {},
     "output_type": "execute_result"
    }
   ],
   "source": [
    "mydict = {'a':1,'b':2,'c':3}\n",
    "mydict['a']"
   ]
  },
  {
   "cell_type": "code",
   "execution_count": 30,
   "metadata": {},
   "outputs": [
    {
     "data": {
      "text/plain": [
       "3"
      ]
     },
     "execution_count": 30,
     "metadata": {},
     "output_type": "execute_result"
    }
   ],
   "source": [
    "mydict['c']"
   ]
  },
  {
   "cell_type": "code",
   "execution_count": 32,
   "metadata": {},
   "outputs": [
    {
     "data": {
      "text/plain": [
       "4"
      ]
     },
     "execution_count": 32,
     "metadata": {},
     "output_type": "execute_result"
    }
   ],
   "source": [
    "mydict['d'] = 4\n",
    "mydict['d']"
   ]
  },
  {
   "cell_type": "code",
   "execution_count": 33,
   "metadata": {},
   "outputs": [
    {
     "ename": "KeyError",
     "evalue": "'e'",
     "output_type": "error",
     "traceback": [
      "\u001b[0;31m---------------------------------------------------------------------------\u001b[0m",
      "\u001b[0;31mKeyError\u001b[0m                                  Traceback (most recent call last)",
      "\u001b[0;32m<ipython-input-33-ec4f418d61aa>\u001b[0m in \u001b[0;36m<module>\u001b[0;34m\u001b[0m\n\u001b[0;32m----> 1\u001b[0;31m \u001b[0mmydict\u001b[0m\u001b[0;34m[\u001b[0m\u001b[0;34m'e'\u001b[0m\u001b[0;34m]\u001b[0m\u001b[0;34m\u001b[0m\u001b[0;34m\u001b[0m\u001b[0m\n\u001b[0m",
      "\u001b[0;31mKeyError\u001b[0m: 'e'"
     ]
    }
   ],
   "source": [
    "mydict['e']"
   ]
  },
  {
   "cell_type": "code",
   "execution_count": 28,
   "metadata": {},
   "outputs": [
    {
     "data": {
      "text/plain": [
       "-1"
      ]
     },
     "execution_count": 28,
     "metadata": {},
     "output_type": "execute_result"
    }
   ],
   "source": [
    "mydict.get('e',-1)  # get with default of -1 if not in dictionary"
   ]
  },
  {
   "cell_type": "code",
   "execution_count": 34,
   "metadata": {},
   "outputs": [
    {
     "data": {
      "text/plain": [
       "dict_keys(['a', 'b', 'c', 'd'])"
      ]
     },
     "execution_count": 34,
     "metadata": {},
     "output_type": "execute_result"
    }
   ],
   "source": [
    "mydict.keys()"
   ]
  },
  {
   "cell_type": "code",
   "execution_count": 35,
   "metadata": {},
   "outputs": [
    {
     "data": {
      "text/plain": [
       "dict_values([1, 2, 3, 4])"
      ]
     },
     "execution_count": 35,
     "metadata": {},
     "output_type": "execute_result"
    }
   ],
   "source": [
    "mydict.values()"
   ]
  },
  {
   "cell_type": "markdown",
   "metadata": {},
   "source": [
    "### Control structures\n",
    "#### Conditionals\n",
    "Logical operators:\n",
    "\n",
    "* Equal: ```==```\n",
    "* Not equal: ```!=``` \n",
    "* less than: ```<```\n",
    "* greater than: ```>```\n",
    "* lt or eq: ```<=```\n",
    "* ge or eq: ```>=```\n",
    "* And: ```and```\n",
    "* Or: ```or```\n",
    "* Not: ```not```\n",
    "* Is contained in list: ```in```\n",
    "* List ```A``` is empty: ```A```"
   ]
  },
  {
   "cell_type": "code",
   "execution_count": 38,
   "metadata": {},
   "outputs": [
    {
     "data": {
      "text/plain": [
       "True"
      ]
     },
     "execution_count": 38,
     "metadata": {},
     "output_type": "execute_result"
    }
   ],
   "source": [
    "5-4 == 1"
   ]
  },
  {
   "cell_type": "code",
   "execution_count": 23,
   "metadata": {},
   "outputs": [
    {
     "data": {
      "text/plain": [
       "True"
      ]
     },
     "execution_count": 23,
     "metadata": {},
     "output_type": "execute_result"
    }
   ],
   "source": [
    "2<3 or 3>=4"
   ]
  },
  {
   "cell_type": "code",
   "execution_count": 39,
   "metadata": {},
   "outputs": [
    {
     "data": {
      "text/plain": [
       "False"
      ]
     },
     "execution_count": 39,
     "metadata": {},
     "output_type": "execute_result"
    }
   ],
   "source": [
    "A = [2,3,4]\n",
    "5 in A"
   ]
  },
  {
   "cell_type": "code",
   "execution_count": 42,
   "metadata": {},
   "outputs": [
    {
     "data": {
      "text/plain": [
       "True"
      ]
     },
     "execution_count": 42,
     "metadata": {},
     "output_type": "execute_result"
    }
   ],
   "source": [
    "bool([543254262])"
   ]
  },
  {
   "cell_type": "markdown",
   "metadata": {},
   "source": [
    "If clauses"
   ]
  },
  {
   "cell_type": "code",
   "execution_count": 50,
   "metadata": {},
   "outputs": [
    {
     "name": "stdout",
     "output_type": "stream",
     "text": [
      "It's greater\n",
      "This also says greater\n",
      "This always runs\n"
     ]
    }
   ],
   "source": [
    "if 5<6:\n",
    "    print('It\\'s greater')\n",
    "    print('This also says greater')\n",
    "elif 5==6:\n",
    "    print('Its equal')\n",
    "else:\n",
    "    print('Its less')\n",
    "print('This always runs')"
   ]
  },
  {
   "cell_type": "code",
   "execution_count": 52,
   "metadata": {},
   "outputs": [
    {
     "name": "stdout",
     "output_type": "stream",
     "text": [
      "I have a very long name\n",
      "This line always runs\n"
     ]
    }
   ],
   "source": [
    "my_name = \"jasonparker\"\n",
    "if len(my_name)<=3:\n",
    "    print('I have a very short name')\n",
    "elif len(my_name)<=5:\n",
    "    print('I have a short name')\n",
    "elif len(my_name)<=7:\n",
    "    print('I have a normal name')\n",
    "elif len(my_name)<=9:\n",
    "    print('I have a long name')\n",
    "else:\n",
    "    print('I have a very long name')\n",
    "print('This line always runs')"
   ]
  },
  {
   "cell_type": "markdown",
   "metadata": {},
   "source": [
    "Inline if"
   ]
  },
  {
   "cell_type": "code",
   "execution_count": 32,
   "metadata": {},
   "outputs": [
    {
     "data": {
      "text/plain": [
       "0"
      ]
     },
     "execution_count": 32,
     "metadata": {},
     "output_type": "execute_result"
    }
   ],
   "source": [
    "x = 7\n",
    "#=IF(condition,true case,false case)\n",
    "# true_case if condition else false_case\n",
    "1 if x > 7 else 0"
   ]
  },
  {
   "cell_type": "markdown",
   "metadata": {},
   "source": [
    "#### Loops\n",
    "While loops"
   ]
  },
  {
   "cell_type": "code",
   "execution_count": 55,
   "metadata": {},
   "outputs": [
    {
     "data": {
      "text/plain": [
       "1"
      ]
     },
     "execution_count": 55,
     "metadata": {},
     "output_type": "execute_result"
    }
   ],
   "source": [
    "x = 0\n",
    "fact = 1\n",
    "while x>1:\n",
    "    fact *= x  # fact = fact*x\n",
    "    x -= 1     # x = x-1\n",
    "fact"
   ]
  },
  {
   "cell_type": "markdown",
   "metadata": {},
   "source": [
    "For loops"
   ]
  },
  {
   "cell_type": "code",
   "execution_count": 59,
   "metadata": {},
   "outputs": [
    {
     "name": "stdout",
     "output_type": "stream",
     "text": [
      "2 2\n",
      "3 6\n",
      "4 24\n",
      "5 120\n"
     ]
    },
    {
     "data": {
      "text/plain": [
       "120"
      ]
     },
     "execution_count": 59,
     "metadata": {},
     "output_type": "execute_result"
    }
   ],
   "source": [
    "x = 5\n",
    "fact = 1\n",
    "for i in range(2,x+1):\n",
    "    fact*=i\n",
    "    print(i,fact)\n",
    "fact"
   ]
  },
  {
   "cell_type": "markdown",
   "metadata": {},
   "source": [
    "Inline for   "
   ]
  },
  {
   "cell_type": "code",
   "execution_count": 61,
   "metadata": {},
   "outputs": [
    {
     "data": {
      "text/plain": [
       "[0, 1, 4, 9, 16]"
      ]
     },
     "execution_count": 61,
     "metadata": {},
     "output_type": "execute_result"
    }
   ],
   "source": [
    "[i**2 for i in range(5)]"
   ]
  },
  {
   "cell_type": "markdown",
   "metadata": {},
   "source": [
    "#### User-defined functions\t"
   ]
  },
  {
   "cell_type": "code",
   "execution_count": 62,
   "metadata": {},
   "outputs": [
    {
     "data": {
      "text/plain": [
       "49"
      ]
     },
     "execution_count": 62,
     "metadata": {},
     "output_type": "execute_result"
    }
   ],
   "source": [
    "def square(x):\n",
    "    return x**2\n",
    "square(7)"
   ]
  },
  {
   "cell_type": "markdown",
   "metadata": {},
   "source": [
    "Lambda notation (in-line function definition)"
   ]
  },
  {
   "cell_type": "code",
   "execution_count": 47,
   "metadata": {},
   "outputs": [
    {
     "data": {
      "text/plain": [
       "25"
      ]
     },
     "execution_count": 47,
     "metadata": {},
     "output_type": "execute_result"
    }
   ],
   "source": [
    "quad = lambda x: x**2\n",
    "quad(5)"
   ]
  },
  {
   "cell_type": "markdown",
   "metadata": {},
   "source": [
    "## Data science: Vector geometry\n",
    "\n",
    "### Vector spaces\t\t\n",
    "#### Row vectors vs Column\t\n",
    "Row vector notation (we don't use):\n",
    "$$\n",
    "x=[x_1,\\dots,x_n]\n",
    "$$\n",
    "\n",
    "Column vector notation (we do use):\n",
    "$$\n",
    "x=\n",
    "\\begin{bmatrix}\n",
    "x_1 \\\\\n",
    "\\vdots \\\\\n",
    "x_n\n",
    "\\end{bmatrix}\n",
    "$$\n",
    "\n",
    "#### Addition\n",
    "\n",
    "General formula\n",
    "$$\n",
    "x+y=\n",
    "\\begin{bmatrix}\n",
    "x_1+y_1 \\\\\n",
    "\\vdots \\\\\n",
    "x_n+y_n\n",
    "\\end{bmatrix}\n",
    "$$\n",
    "\n",
    "Example:\n",
    "$$\n",
    "\\begin{bmatrix}\n",
    "2 \\\\\n",
    "1\n",
    "\\end{bmatrix}\n",
    "+\n",
    "\\begin{bmatrix}\n",
    "1 \\\\\n",
    "2\n",
    "\\end{bmatrix}\n",
    "=\n",
    "\\begin{bmatrix}\n",
    "3 \\\\\n",
    "3\n",
    "\\end{bmatrix}\n",
    "$$\n",
    "\n",
    "Geometrically:"
   ]
  },
  {
   "cell_type": "code",
   "execution_count": 60,
   "metadata": {},
   "outputs": [
    {
     "data": {
      "image/png": "[encoded data removed]",
      "text/plain": [
       "<Figure size 432x288 with 1 Axes>"
      ]
     },
     "metadata": {
      "needs_background": "light"
     },
     "output_type": "display_data"
    }
   ],
   "source": [
    "## YOU DO NOT NEED TO KNOW THIS CODE\n",
    "## I AM USING THIS HERE TO MAKE PICTURES\n",
    "## YOU ARE RESPONSIBLE FOR THE PICTURES\n",
    "## YOU WILL LEARN THIS LATER\n",
    "\n",
    "import matplotlib.pyplot as pt\n",
    "import numpy as np\n",
    "%matplotlib inline\n",
    "\n",
    "fig = pt.figure()\n",
    "pt.quiver([0,0,2,1,0],[0,0,1,2,0],[2,1,1,2,3],[1,2,2,1,3]\n",
    "          ,color=['r','b','b','r','g'],units='xy',scale=1)\n",
    "pt.axis('equal')\n",
    "pt.axis('off')\n",
    "pt.ylim(-0,3)\n",
    "pt.show()"
   ]
  },
  {
   "cell_type": "markdown",
   "metadata": {},
   "source": [
    "#### Scalar multiplication\n",
    "\n",
    "$$\n",
    "a\\cdot x=\n",
    "\\begin{bmatrix}\n",
    "a\\cdot x_1 \\\\\n",
    "\\vdots \\\\\n",
    "a\\cdot x_n\n",
    "\\end{bmatrix}\n",
    "$$\n",
    "\n",
    "$$\n",
    "2\\cdot\n",
    "\\begin{bmatrix}\n",
    "2 \\\\\n",
    "1\n",
    "\\end{bmatrix}\n",
    "=\n",
    "\\begin{bmatrix}\n",
    "4 \\\\\n",
    "2\n",
    "\\end{bmatrix}\n",
    "$$"
   ]
  },
  {
   "cell_type": "code",
   "execution_count": 61,
   "metadata": {},
   "outputs": [
    {
     "data": {
      "image/png": "[encoded data removed]",
      "text/plain": [
       "<Figure size 432x288 with 1 Axes>"
      ]
     },
     "metadata": {
      "needs_background": "light"
     },
     "output_type": "display_data"
    }
   ],
   "source": [
    "fig = pt.figure()\n",
    "pt.quiver([0,0],[0,0],[0.75,0.25],[0.75,0.25]\n",
    "          ,color=['r','b'],units='xy',scale=0.5)\n",
    "pt.xlim(-0,3)\n",
    "pt.ylim(-0,3)\n",
    "pt.axis('off')\n",
    "pt.show()"
   ]
  },
  {
   "cell_type": "markdown",
   "metadata": {},
   "source": [
    "### Vector Measures\n",
    "#### Norms\n",
    "\n",
    "$L_p$ norm:\n",
    "$$\\left\\Vert x\\right\\Vert_p=\\left(\\sum_{i=1}^r |x_i|^p\\right)^{1/p}$$\n",
    "\n",
    "Euclidean norm:\n",
    "$$\\left\\Vert x\\right\\Vert=\\left\\Vert x\\right\\Vert_2=\\sqrt{\\sum_{i=1}^r x_i^2}$$\n",
    "#### Inner product\n",
    "\n",
    "$$\\langle x,y\\rangle=\\sum_{i=1}^r x_i y_i$$\n",
    "$$\\left\\Vert x\\right\\Vert=\\sqrt{\\langle x,x\\rangle}$$\n",
    "#### Orthogonality (perpendicular)\n",
    "$$x\\perp y \\Longleftrightarrow \\langle x,y\\rangle=0$$ \n",
    "#### Cosine law\n",
    "$$\\cos\\theta=\\frac{\\langle x,y\\rangle}{\\left\\Vert x\\right\\Vert\\left\\Vert y\\right\\Vert}$$\n",
    "where $\\theta$ is the angle between $x$ and $y$"
   ]
  },
  {
   "cell_type": "markdown",
   "metadata": {},
   "source": [
    "## Programming challenges"
   ]
  },
  {
   "cell_type": "markdown",
   "metadata": {},
   "source": [
    "### FizzBuzz\t\t\t\n",
    "\n",
    "Print out a sequence of numbers $1,2,\\dots,99$ on multiples of $5$ print ```Fizz``` instead of the number. On multiples of $7$ print ```Buzz``` instead of the number. At $35$ or any multiple of both, print ```FizzBuzz```."
   ]
  },
  {
   "cell_type": "code",
   "execution_count": 66,
   "metadata": {},
   "outputs": [
    {
     "name": "stdout",
     "output_type": "stream",
     "text": [
      "1\n",
      "2\n",
      "3\n",
      "4\n",
      "Fizz\n",
      "6\n",
      "Buzz\n",
      "8\n",
      "9\n",
      "Fizz\n",
      "Jazz\n",
      "12\n",
      "13\n",
      "Buzz\n",
      "Fizz\n",
      "16\n",
      "17\n",
      "18\n",
      "19\n",
      "Fizz\n",
      "Buzz\n",
      "Jazz\n",
      "23\n",
      "24\n",
      "Fizz\n",
      "26\n",
      "27\n",
      "Buzz\n",
      "29\n",
      "Fizz\n",
      "31\n",
      "32\n",
      "Jazz\n",
      "34\n",
      "FizzBuzz\n",
      "36\n",
      "37\n",
      "38\n",
      "39\n",
      "Fizz\n",
      "41\n",
      "Buzz\n",
      "43\n",
      "Jazz\n",
      "Fizz\n",
      "46\n",
      "47\n",
      "48\n",
      "Buzz\n",
      "Fizz\n",
      "51\n",
      "52\n",
      "53\n",
      "54\n",
      "FizzJazz\n",
      "Buzz\n",
      "57\n",
      "58\n",
      "59\n",
      "Fizz\n",
      "61\n",
      "62\n",
      "Buzz\n",
      "64\n",
      "Fizz\n",
      "Jazz\n",
      "67\n",
      "68\n",
      "69\n",
      "FizzBuzz\n",
      "71\n",
      "72\n",
      "73\n",
      "74\n",
      "Fizz\n",
      "76\n",
      "BuzzJazz\n",
      "78\n",
      "79\n",
      "Fizz\n",
      "81\n",
      "82\n",
      "83\n",
      "Buzz\n",
      "Fizz\n",
      "86\n",
      "87\n",
      "Jazz\n",
      "89\n",
      "Fizz\n",
      "Buzz\n",
      "92\n",
      "93\n",
      "94\n",
      "Fizz\n",
      "96\n",
      "97\n",
      "Buzz\n",
      "Jazz\n"
     ]
    }
   ],
   "source": [
    "for x in range(1,100):\n",
    "    out_string = ''\n",
    "    if x%5==0: out_string+='Fizz'\n",
    "    if x%7==0: out_string+='Buzz'\n",
    "    if x%11==0: out_string+='Jazz'\n",
    "    if x%13==0: out_string+='Blazz'\n",
    "    if len(out_string)==0: out_string=str(x)\n",
    "    print(out_string)"
   ]
  },
  {
   "cell_type": "code",
   "execution_count": 67,
   "metadata": {},
   "outputs": [
    {
     "name": "stdout",
     "output_type": "stream",
     "text": [
      "1\n",
      "2\n",
      "3\n",
      "4\n",
      "Fizz\n",
      "6\n",
      "Buzz\n",
      "8\n",
      "9\n",
      "Fizz\n",
      "Jazz\n",
      "12\n",
      "13\n",
      "Buzz\n",
      "Fizz\n",
      "16\n",
      "17\n",
      "18\n",
      "19\n",
      "Fizz\n",
      "Buzz\n",
      "Jazz\n",
      "23\n",
      "24\n",
      "Fizz\n",
      "26\n",
      "27\n",
      "Buzz\n",
      "29\n",
      "Fizz\n",
      "31\n",
      "32\n",
      "Jazz\n",
      "34\n",
      "FizzBuzz\n",
      "36\n",
      "37\n",
      "38\n",
      "39\n",
      "Fizz\n",
      "41\n",
      "Buzz\n",
      "43\n",
      "Jazz\n",
      "Fizz\n",
      "46\n",
      "47\n",
      "48\n",
      "Buzz\n",
      "Fizz\n",
      "51\n",
      "52\n",
      "53\n",
      "54\n",
      "FizzJazz\n",
      "Buzz\n",
      "57\n",
      "58\n",
      "59\n",
      "Fizz\n",
      "61\n",
      "62\n",
      "Buzz\n",
      "64\n",
      "Fizz\n",
      "Jazz\n",
      "67\n",
      "68\n",
      "69\n",
      "FizzBuzz\n",
      "71\n",
      "72\n",
      "73\n",
      "74\n",
      "Fizz\n",
      "76\n",
      "BuzzJazz\n",
      "78\n",
      "79\n",
      "Fizz\n",
      "81\n",
      "82\n",
      "83\n",
      "Buzz\n",
      "Fizz\n",
      "86\n",
      "87\n",
      "Jazz\n",
      "89\n",
      "Fizz\n",
      "Buzz\n",
      "92\n",
      "93\n",
      "94\n",
      "Fizz\n",
      "96\n",
      "97\n",
      "Buzz\n",
      "Jazz\n"
     ]
    }
   ],
   "source": [
    "mydictionary = {5:'Fizz',7:'Buzz',11:'Jazz'}\n",
    "for x in range(1,100):\n",
    "    out_string = ''\n",
    "    for key in mydictionary.keys():\n",
    "        if x%key==0: \n",
    "            out_string+=mydictionary[key]\n",
    "    if len(out_string)==0: out_string=str(x)\n",
    "    print(out_string)"
   ]
  },
  {
   "cell_type": "code",
   "execution_count": null,
   "metadata": {},
   "outputs": [],
   "source": [
    "x = 10\n",
    "x = 21\n",
    "x = 35\n",
    "x = 6 "
   ]
  },
  {
   "cell_type": "markdown",
   "metadata": {},
   "source": [
    "### Hailstone numbers\t\t\n",
    "\n",
    "$$\n",
    "x_{n+1} = \n",
    "\\Bigg\\{\n",
    "\\begin{matrix}\n",
    "x_n/2 & \\text{if } x_n \\text{ even}\\\\\n",
    "3x_n+1 & \\text{otherwise}\n",
    "\\end{matrix}\n",
    "$$\n",
    "\n",
    "For a given starting value $x_0$, the hailstone number is how many steps it takes for the above sequence to first reach the number $1$."
   ]
  },
  {
   "cell_type": "code",
   "execution_count": 151,
   "metadata": {},
   "outputs": [
    {
     "name": "stdout",
     "output_type": "stream",
     "text": [
      "92 ms ± 312 µs per loop (mean ± std. dev. of 7 runs, 10 loops each)\n"
     ]
    }
   ],
   "source": [
    "def run():\n",
    "    hailstone = [-1,0]\n",
    "    for init in range(2,100000):\n",
    "        x = init\n",
    "        count = 0\n",
    "        while x>=init:\n",
    "            count += 1\n",
    "            x = x//2 if x%2==0 else 3*x+1\n",
    "        hailstone += [count+hailstone[x]]\n",
    "    #print(hailstone)\n",
    "%timeit run()"
   ]
  },
  {
   "cell_type": "code",
   "execution_count": 1,
   "metadata": {},
   "outputs": [
    {
     "name": "stdout",
     "output_type": "stream",
     "text": [
      "95.9 ms ± 190 µs per loop (mean ± std. dev. of 7 runs, 10 loops each)\n"
     ]
    }
   ],
   "source": [
    "def run():\n",
    "    hailstone = {1:0}\n",
    "    for init in range(2,100000):\n",
    "        x = init\n",
    "        mylist = []\n",
    "        count = 0\n",
    "        while x not in hailstone:\n",
    "            mylist += [x]\n",
    "            count += 1\n",
    "            x = x//2 if x%2==0 else 3*x+1\n",
    "        for item in mylist:\n",
    "            hailstone[item] = count+hailstone[x]\n",
    "            count -= 1\n",
    "    #print(hailstone)\n",
    "%timeit run()"
   ]
  },
  {
   "cell_type": "markdown",
   "metadata": {},
   "source": [
    "### Pascal's triangle\n",
    "\n",
    "Write a program to print out the lines of Pascal's triangle."
   ]
  },
  {
   "cell_type": "code",
   "execution_count": 164,
   "metadata": {},
   "outputs": [
    {
     "name": "stdout",
     "output_type": "stream",
     "text": [
      "[1]\n",
      "[1, 1]\n",
      "[1, 2, 1]\n",
      "[1, 3, 3, 1]\n",
      "[1, 4, 6, 4, 1]\n",
      "[1, 5, 10, 10, 5, 1]\n",
      "[1, 6, 15, 20, 15, 6, 1]\n",
      "[1, 7, 21, 35, 35, 21, 7, 1]\n",
      "[1, 8, 28, 56, 70, 56, 28, 8, 1]\n",
      "[1, 9, 36, 84, 126, 126, 84, 36, 9, 1]\n"
     ]
    }
   ],
   "source": [
    "x = []\n",
    "for j in range(10):\n",
    "    y = [1]*(len(x)+1)\n",
    "    for i in range(1,len(x)):\n",
    "        y[i] = x[i-1]+x[i]\n",
    "    print(y)\n",
    "    x = y"
   ]
  }
 ],
 "metadata": {
  "kernelspec": {
   "display_name": "Python 3",
   "language": "python",
   "name": "python3"
  },
  "language_info": {
   "codemirror_mode": {
    "name": "ipython",
    "version": 3
   },
   "file_extension": ".py",
   "mimetype": "text/x-python",
   "name": "python",
   "nbconvert_exporter": "python",
   "pygments_lexer": "ipython3",
   "version": "3.7.4"
  }
 },
 "nbformat": 4,
 "nbformat_minor": 2
}
